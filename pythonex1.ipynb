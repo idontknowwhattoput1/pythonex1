{
 "cells": [
  {
   "cell_type": "code",
   "execution_count": 2,
   "id": "0a8dbd8b",
   "metadata": {},
   "outputs": [],
   "source": [
    "var1 = 1"
   ]
  },
  {
   "cell_type": "code",
   "execution_count": 3,
   "id": "5c40967d",
   "metadata": {},
   "outputs": [],
   "source": [
    "var2 = 2"
   ]
  },
  {
   "cell_type": "code",
   "execution_count": 5,
   "id": "37c0099f",
   "metadata": {},
   "outputs": [
    {
     "name": "stdout",
     "output_type": "stream",
     "text": [
      "4\n"
     ]
    }
   ],
   "source": [
    "print(var1 + var2 + var1)"
   ]
  },
  {
   "cell_type": "code",
   "execution_count": null,
   "id": "6d3e2351",
   "metadata": {},
   "outputs": [],
   "source": []
  }
 ],
 "metadata": {
  "kernelspec": {
   "display_name": "Python 3 (ipykernel)",
   "language": "python",
   "name": "python3"
  },
  "language_info": {
   "codemirror_mode": {
    "name": "ipython",
    "version": 3
   },
   "file_extension": ".py",
   "mimetype": "text/x-python",
   "name": "python",
   "nbconvert_exporter": "python",
   "pygments_lexer": "ipython3",
   "version": "3.9.7"
  }
 },
 "nbformat": 4,
 "nbformat_minor": 5
}
